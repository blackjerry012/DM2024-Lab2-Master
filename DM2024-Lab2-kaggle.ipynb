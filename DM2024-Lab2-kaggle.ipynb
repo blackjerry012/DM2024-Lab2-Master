{
 "cells": [
  {
   "attachments": {
    "ac045839-f11d-44e6-9414-7b17411f647c.png": {
     "image/png": "[encoded data removed]"
    }
   },
   "cell_type": "markdown",
   "metadata": {},
   "source": [
    "Student infomation  \n",
    "Name:林澤宇  \n",
    "Student id:112064528  \n",
    "Github id:98965138  \n",
    "kaggle name:NTHU112064528  \n",
    "![image.png](attachment:ac045839-f11d-44e6-9414-7b17411f647c.png)"
   ]
  },
  {
   "cell_type": "code",
   "execution_count": null,
   "metadata": {
    "_cell_guid": "b1076dfc-b9ad-4769-8c92-a6c4dae69d19",
    "_uuid": "8f2839f25d086af736a60e9eeb907d3b93b6e0e5",
    "execution": {
     "iopub.execute_input": "2024-12-03T17:37:42.62297Z",
     "iopub.status.busy": "2024-12-03T17:37:42.622175Z",
     "iopub.status.idle": "2024-12-03T17:38:12.859286Z",
     "shell.execute_reply": "2024-12-03T17:38:12.858546Z",
     "shell.execute_reply.started": "2024-12-03T17:37:42.622939Z"
    }
   },
   "outputs": [],
   "source": [
    "import pandas as pd\n",
    "import json\n",
    "import re\n",
    "import emoji\n",
    "from nltk.corpus import stopwords\n",
    "from transformers import BertTokenizer, BertModel\n",
    "import torch\n",
    "import torch.nn as nn\n",
    "from torch.utils.data import Dataset, DataLoader\n",
    "from torch.optim import AdamW\n",
    "from torchmetrics import Accuracy\n",
    "from tqdm import tqdm\n",
    "import nltk\n",
    "import numpy as np\n",
    "device = torch.device(\"cuda\" if torch.cuda.is_available() else \"cpu\")\n",
    "print(f\"Using device: {device}\")\n",
    "\n",
    "# Download NLTK resources for text preprocessing\n",
    "nltk.download(\"punkt\")\n",
    "nltk.download(\"stopwords\")\n",
    "\n",
    "# Step 1: Load emotion and data identification datasets\n",
    "# Read the CSV file containing emotion labels\n",
    "emotion = pd.read_csv(\"/kaggle/input/dm-2024-isa-5810-lab-2-homework/emotion.csv\")\n",
    "data_identification = pd.read_csv(\"/kaggle/input/dm-2024-isa-5810-lab-2-homework/data_identification.csv\")\n",
    "\n",
    "# Load and process tweets from the JSON file\n",
    "with open(\"/kaggle/input/dm-2024-isa-5810-lab-2-homework/tweets_DM.json\", \"r\") as file:\n",
    "    tweets_raw = [json.loads(line) for line in file]\n",
    "\n",
    "tweets = pd.DataFrame([{\n",
    "    \"tweet_id\": tweet[\"_source\"][\"tweet\"][\"tweet_id\"],\n",
    "    \"text\": tweet[\"_source\"][\"tweet\"][\"text\"]\n",
    "} for tweet in tweets_raw])"
   ]
  },
  {
   "cell_type": "code",
   "execution_count": null,
   "metadata": {
    "execution": {
     "iopub.execute_input": "2024-12-03T17:38:12.861023Z",
     "iopub.status.busy": "2024-12-03T17:38:12.860763Z",
     "iopub.status.idle": "2024-12-03T17:38:19.942773Z",
     "shell.execute_reply": "2024-12-03T17:38:19.941719Z",
     "shell.execute_reply.started": "2024-12-03T17:38:12.860999Z"
    }
   },
   "outputs": [],
   "source": [
    "# Merge `data_identification` with `tweets` on the common column \"tweet_id\"\n",
    "merged_data = pd.merge(data_identification, tweets, on=\"tweet_id\", how=\"left\")\n",
    "#Merge the result with `emotion` on \"tweet_id\"\n",
    "merged_data = pd.merge(merged_data, emotion, on=\"tweet_id\", how=\"left\")\n",
    "\n",
    "# 2.  Separate the merged dataset into training and testing sets\n",
    "train_data = merged_data[merged_data[\"identification\"] == \"train\"].copy()\n",
    "test_data = merged_data[merged_data[\"identification\"] == \"test\"].copy()"
   ]
  },
  {
   "cell_type": "code",
   "execution_count": null,
   "metadata": {
    "execution": {
     "iopub.execute_input": "2024-12-03T17:38:19.944201Z",
     "iopub.status.busy": "2024-12-03T17:38:19.943894Z",
     "iopub.status.idle": "2024-12-03T17:40:54.793109Z",
     "shell.execute_reply": "2024-12-03T17:40:54.792419Z",
     "shell.execute_reply.started": "2024-12-03T17:38:19.944174Z"
    }
   },
   "outputs": [],
   "source": [
    "# Step 3: Text preprocessing\n",
    "stop_words = set(stopwords.words(\"english\"))\n",
    "\n",
    "#Steps:\n",
    "#1. Convert emojis to descriptive words using `emoji.demojize`.\n",
    "#2. Remove URLs (e.g., \"http://example.com\").\n",
    "#3. Remove user mentions (e.g., \"@username\").\n",
    "#4. Retain hashtags but remove other punctuation and special characters.\n",
    "#5. Convert text to lowercase to ensure consistency.\n",
    "#6. Remove stopwords to focus on meaningful words.\n",
    "    \n",
    "def preprocess_text(text):\n",
    "    text = emoji.demojize(text)\n",
    "    text = re.sub(r\"http\\S+\", \"\", text)\n",
    "    text = re.sub(r\"@\\w+\", \"\", text)\n",
    "    text = re.sub(r\"[^\\w\\s#\\U0001F600-\\U0001F64F]\", \"\", text)\n",
    "    text = text.lower()\n",
    "    words = [word for word in text.split() if word not in stop_words]\n",
    "    return \" \".join(words)  # required for BERT input\n",
    "\n",
    "train_data[\"cleaned_text\"] = train_data[\"text\"].apply(preprocess_text)\n",
    "test_data[\"cleaned_text\"] = test_data[\"text\"].apply(preprocess_text)"
   ]
  },
  {
   "cell_type": "code",
   "execution_count": null,
   "metadata": {
    "execution": {
     "iopub.execute_input": "2024-12-03T17:40:54.795896Z",
     "iopub.status.busy": "2024-12-03T17:40:54.795536Z",
     "iopub.status.idle": "2024-12-03T17:40:54.988029Z",
     "shell.execute_reply": "2024-12-03T17:40:54.987367Z",
     "shell.execute_reply.started": "2024-12-03T17:40:54.795858Z"
    }
   },
   "outputs": [],
   "source": [
    "#Step 4: Label processing\n",
    "emotion_mapping = {emotion: idx for idx, emotion in enumerate(train_data[\"emotion\"].unique())}\n",
    "train_data[\"label\"] = train_data[\"emotion\"].map(emotion_mapping)\n",
    "test_data[\"label\"] = test_data[\"emotion\"].map(emotion_mapping)"
   ]
  },
  {
   "cell_type": "code",
   "execution_count": null,
   "metadata": {
    "execution": {
     "iopub.execute_input": "2024-12-03T17:40:54.989197Z",
     "iopub.status.busy": "2024-12-03T17:40:54.988939Z",
     "iopub.status.idle": "2024-12-03T17:40:55.964731Z",
     "shell.execute_reply": "2024-12-03T17:40:55.963874Z",
     "shell.execute_reply.started": "2024-12-03T17:40:54.989172Z"
    }
   },
   "outputs": [],
   "source": [
    "from sklearn.model_selection import train_test_split\n",
    "\n",
    "# train_data20% for val\n",
    "train_data, val_data = train_test_split(train_data, test_size=0.2, random_state=42)\n",
    "\n",
    "print(f\"Train size: {len(train_data)}, Validation size: {len(val_data)}\")"
   ]
  },
  {
   "cell_type": "code",
   "execution_count": null,
   "metadata": {
    "execution": {
     "iopub.execute_input": "2024-12-03T17:40:55.966018Z",
     "iopub.status.busy": "2024-12-03T17:40:55.965741Z",
     "iopub.status.idle": "2024-12-03T17:40:55.976713Z",
     "shell.execute_reply": "2024-12-03T17:40:55.975918Z",
     "shell.execute_reply.started": "2024-12-03T17:40:55.965993Z"
    }
   },
   "outputs": [],
   "source": [
    "train_data"
   ]
  },
  {
   "cell_type": "code",
   "execution_count": null,
   "metadata": {
    "execution": {
     "iopub.execute_input": "2024-12-03T17:40:55.978023Z",
     "iopub.status.busy": "2024-12-03T17:40:55.977781Z",
     "iopub.status.idle": "2024-12-03T17:40:55.988486Z",
     "shell.execute_reply": "2024-12-03T17:40:55.987791Z",
     "shell.execute_reply.started": "2024-12-03T17:40:55.977999Z"
    }
   },
   "outputs": [],
   "source": [
    "# 5. Define datasets and load data\n",
    "class TwitterDataset(Dataset):\n",
    "    #-data (DataFrame): The input data containing 'cleaned_text' and 'label' columns.\n",
    "    #-tokenizer: The Hugging Face tokenizer for tokenizing text.\n",
    "    #-max_length (int): The maximum sequence length for padding and truncation.\n",
    "    def __init__(self, data, tokenizer, max_length):\n",
    "        self.data = data\n",
    "        self.tokenizer = tokenizer\n",
    "        self.max_length = max_length\n",
    "\n",
    "    def __getitem__(self, index):\n",
    "        row = self.data.iloc[index]\n",
    "        text = row['cleaned_text'] # Preprocessed text\n",
    "        label = row['label']# Numeric label for the emotion\n",
    "        # Tokenize the text and prepare it for the model\n",
    "        encoding = self.tokenizer(\n",
    "            text,\n",
    "            padding=\"max_length\",# Pad to the maximum sequence length\n",
    "            truncation=True, # Truncate text longer than the maximum length\n",
    "            max_length=self.max_length,# Maximum sequence length\n",
    "            return_tensors=\"pt\"# Return PyTorch tensors\n",
    "        )\n",
    "\n",
    "        return {\n",
    "            'input_ids': encoding['input_ids'].squeeze(0),# Tokenized IDs\n",
    "            'attention_mask': encoding['attention_mask'].squeeze(0),# Attention mask\n",
    "            'label': torch.tensor(label, dtype=torch.long) # Emotion label as a tensor\n",
    "        }\n",
    "\n",
    "    def __len__(self):\n",
    "        return len(self.data)\n",
    "\n",
    "def collate_fn(batch):\n",
    "    #- 'input_ids' (Tensor): Stacked input IDs for the batch.\n",
    "    #- 'attention_mask' (Tensor): Stacked attention masks for the batch.\n",
    "    #- 'labels' (Tensor): Stacked labels for the batch.\n",
    "    input_ids = torch.stack([item['input_ids'] for item in batch])\n",
    "    attention_mask = torch.stack([item['attention_mask'] for item in batch])\n",
    "    labels = torch.tensor([item['label'] for item in batch])\n",
    "    return {'input_ids': input_ids, 'attention_mask': attention_mask, 'labels': labels}"
   ]
  },
  {
   "cell_type": "code",
   "execution_count": null,
   "metadata": {
    "execution": {
     "iopub.execute_input": "2024-12-03T17:40:55.990174Z",
     "iopub.status.busy": "2024-12-03T17:40:55.9896Z",
     "iopub.status.idle": "2024-12-03T17:40:56.002749Z",
     "shell.execute_reply": "2024-12-03T17:40:56.001949Z",
     "shell.execute_reply.started": "2024-12-03T17:40:55.990116Z"
    }
   },
   "outputs": [],
   "source": [
    "# Step 6: Initialize BERT model and classifier\n",
    "class EmotionClassifier(nn.Module):\n",
    "    def __init__(self, bert_model_name=\"bert-base-uncased\", num_classes=8):\n",
    "        #Initialize\n",
    "        super(EmotionClassifier, self).__init__()\n",
    "        self.bert = BertModel.from_pretrained(bert_model_name)\n",
    "        self.classifier = nn.Linear(self.bert.config.hidden_size, num_classes)\n",
    "\n",
    "    def forward(self, input_ids, attention_mask):\n",
    "        outputs = self.bert(\n",
    "            input_ids=input_ids,\n",
    "            attention_mask=attention_mask\n",
    "        )\n",
    "        # Extract the [CLS] token output (first token) from the last hidden state\n",
    "        cls_output = outputs.last_hidden_state[:, 0, :]  \n",
    "        # Pass the [CLS] token output through the classifier to get logits\n",
    "        logits = self.classifier(cls_output)\n",
    "        return logits\n"
   ]
  },
  {
   "cell_type": "code",
   "execution_count": null,
   "metadata": {
    "execution": {
     "iopub.execute_input": "2024-12-03T17:40:56.003993Z",
     "iopub.status.busy": "2024-12-03T17:40:56.003752Z",
     "iopub.status.idle": "2024-12-03T17:40:56.695045Z",
     "shell.execute_reply": "2024-12-03T17:40:56.694384Z",
     "shell.execute_reply.started": "2024-12-03T17:40:56.003969Z"
    }
   },
   "outputs": [],
   "source": [
    "# Step 7: Initialize model, optimizer, and loss function\n",
    "model = EmotionClassifier(num_classes=len(emotion_mapping)).to(device)\n",
    "# Load the pre-trained BERT tokenizer for text preprocessing\n",
    "tokenizer = BertTokenizer.from_pretrained(\"bert-base-uncased\")\n",
    "optimizer = AdamW(model.parameters(), lr=2e-5)\n",
    "loss_fn = nn.CrossEntropyLoss()\n",
    "\n",
    "# Step 8: Construct data loaders\n",
    "max_length = 64\n",
    "batch_size = 8\n",
    "# Create DataLoader objects for batch processing\n",
    "train_dataset = TwitterDataset(train_data, tokenizer, max_length)\n",
    "#test_dataset = TwitterDataset(test_data, tokenizer, max_length)\n",
    "val_dataset = TwitterDataset(val_data, tokenizer, max_length)\n",
    "\n",
    "train_dataloader = DataLoader(train_dataset, batch_size=batch_size, shuffle=True, collate_fn=collate_fn)\n",
    "#test_dataloader = DataLoader(test_dataset, batch_size=batch_size, shuffle=False, collate_fn=collate_fn)\n",
    "val_dataloader = DataLoader(val_dataset, batch_size=batch_size, shuffle=False, collate_fn=collate_fn)\n",
    "# - `train_dataloader` is ready to provide batches for training.\n",
    "# - `val_dataloader` is used for validating the model during training."
   ]
  },
  {
   "cell_type": "code",
   "execution_count": null,
   "metadata": {
    "execution": {
     "iopub.execute_input": "2024-12-03T17:40:56.698175Z",
     "iopub.status.busy": "2024-12-03T17:40:56.69789Z",
     "iopub.status.idle": "2024-12-03T17:40:56.705578Z",
     "shell.execute_reply": "2024-12-03T17:40:56.704778Z",
     "shell.execute_reply.started": "2024-12-03T17:40:56.69815Z"
    }
   },
   "outputs": [],
   "source": [
    "# Step 9: Training and evaluation functions\n",
    "#Function to train the model for one epoch.\n",
    "def train(model, dataloader, optimizer, loss_fn, device):\n",
    "    model.train()\n",
    "    total_loss = 0\n",
    "    for batch in tqdm(dataloader, desc=\"Training\"):\n",
    "        input_ids = batch['input_ids'].to(device)\n",
    "        attention_mask = batch['attention_mask'].to(device)\n",
    "        labels = batch['labels'].to(device)\n",
    "        # Zero out the gradients for the optimizer\n",
    "        optimizer.zero_grad()\n",
    "        # Forward pass through the model\n",
    "        logits = model(input_ids, attention_mask)\n",
    "        # Compute the loss between predictions and true labels\n",
    "        loss = loss_fn(logits, labels)\n",
    "        # Backward pass to compute gradients\n",
    "        loss.backward()\n",
    "        # Update model parameters using the optimizer\n",
    "        optimizer.step()\n",
    "        # Accumulate the loss for reporting\n",
    "        total_loss += loss.item()\n",
    "    return total_loss / len(dataloader)\n",
    "#Function to evaluate the model on a validation or test dataset.\n",
    "def evaluate(model, dataloader, loss_fn, device):\n",
    "    model.eval()\n",
    "    total_loss = 0\n",
    "    # Initialize\n",
    "    accuracy_metric = Accuracy(task=\"multiclass\", num_classes=len(emotion_mapping)).to(device)\n",
    "    with torch.no_grad():\n",
    "        for batch in tqdm(dataloader, desc=\"Evaluating\"):\n",
    "            input_ids = batch['input_ids'].to(device)\n",
    "            attention_mask = batch['attention_mask'].to(device)\n",
    "            labels = batch['labels'].to(device)\n",
    "            # Forward pass through the model\n",
    "            logits = model(input_ids, attention_mask)\n",
    "            # Compute the loss between predictions and true labels\n",
    "            loss = loss_fn(logits, labels)\n",
    "            # Accumulate the loss for reporting\n",
    "            total_loss += loss.item()\n",
    "            # Update the accuracy metric with the current batch predictions and labels\n",
    "            accuracy_metric.update(logits.argmax(dim=1), labels)\n",
    "    accuracy = accuracy_metric.compute().item()\n",
    "    accuracy_metric.reset()\n",
    "    # Return the average loss per batch and the overall accuracy\n",
    "    return total_loss / len(dataloader), accuracy"
   ]
  },
  {
   "cell_type": "code",
   "execution_count": null,
   "metadata": {
    "execution": {
     "iopub.execute_input": "2024-12-03T18:40:40.796698Z",
     "iopub.status.busy": "2024-12-03T18:40:40.796005Z",
     "iopub.status.idle": "2024-12-03T23:54:30.206405Z",
     "shell.execute_reply": "2024-12-03T23:54:30.205423Z",
     "shell.execute_reply.started": "2024-12-03T18:40:40.796662Z"
    }
   },
   "outputs": [],
   "source": [
    "epochs = 1 #I only train for one epochs because of time. one epochs 5hr\n",
    "for epoch in range(epochs):\n",
    "    print(f\"Epoch {epoch + 1}/{epochs}\")\n",
    "    \n",
    "    # train model\n",
    "    train_loss = train(model, train_dataloader, optimizer, loss_fn, device)\n",
    "    \n",
    "    # val model\n",
    "    val_loss, val_accuracy = evaluate(model, val_dataloader, loss_fn, device)\n",
    "    # Print the training loss for this epoch\n",
    "    print(f\"Train Loss: {train_loss:.4f}\")\n",
    "    # Print the validation loss and accuracy for this epoch\n",
    "    print(f\"Validation Loss: {val_loss:.4f}, Validation Accuracy: {val_accuracy:.4f}\")\n",
    "\n",
    "print(\"Training Complete!\")\n"
   ]
  },
  {
   "cell_type": "code",
   "execution_count": null,
   "metadata": {
    "execution": {
     "iopub.execute_input": "2024-12-03T23:54:37.214477Z",
     "iopub.status.busy": "2024-12-03T23:54:37.214101Z",
     "iopub.status.idle": "2024-12-03T23:54:37.829677Z",
     "shell.execute_reply": "2024-12-03T23:54:37.828846Z",
     "shell.execute_reply.started": "2024-12-03T23:54:37.214445Z"
    }
   },
   "outputs": [],
   "source": [
    "#save model\n",
    "torch.save(model.state_dict(), \"bert_emotion_model.pth\")\n",
    "print(\"Model saved as bert_emotion_model.pth\")"
   ]
  },
  {
   "cell_type": "code",
   "execution_count": null,
   "metadata": {
    "execution": {
     "iopub.execute_input": "2024-12-03T23:54:54.135389Z",
     "iopub.status.busy": "2024-12-03T23:54:54.135045Z",
     "iopub.status.idle": "2024-12-03T23:54:54.141525Z",
     "shell.execute_reply": "2024-12-03T23:54:54.140557Z",
     "shell.execute_reply.started": "2024-12-03T23:54:54.135358Z"
    }
   },
   "outputs": [],
   "source": [
    "#Same as class TwitterDataset but return tweet_id\n",
    "class TestTwitterDataset(Dataset):\n",
    "    def __init__(self, data, tokenizer, max_length):\n",
    "        self.data = data\n",
    "        self.tokenizer = tokenizer\n",
    "        self.max_length = max_length\n",
    "\n",
    "    def __getitem__(self, index):\n",
    "        row = self.data.iloc[index]\n",
    "        text = row['cleaned_text']\n",
    "        tweet_id = row['tweet_id']\n",
    "\n",
    "        encoding = self.tokenizer(\n",
    "            text,\n",
    "            padding=\"max_length\",\n",
    "            truncation=True,\n",
    "            max_length=self.max_length,\n",
    "            return_tensors=\"pt\"\n",
    "        )\n",
    "\n",
    "        return {\n",
    "            'input_ids': encoding['input_ids'].squeeze(0),\n",
    "            'attention_mask': encoding['attention_mask'].squeeze(0),\n",
    "            'id': tweet_id  # return tweet_id\n",
    "        }\n",
    "\n",
    "    def __len__(self):\n",
    "        return len(self.data)"
   ]
  },
  {
   "cell_type": "code",
   "execution_count": null,
   "metadata": {
    "execution": {
     "iopub.execute_input": "2024-12-03T23:55:06.576441Z",
     "iopub.status.busy": "2024-12-03T23:55:06.576082Z",
     "iopub.status.idle": "2024-12-03T23:55:06.58085Z",
     "shell.execute_reply": "2024-12-03T23:55:06.579767Z",
     "shell.execute_reply.started": "2024-12-03T23:55:06.576412Z"
    }
   },
   "outputs": [],
   "source": [
    "test_dataset = TestTwitterDataset(test_data, tokenizer, max_length)\n",
    "test_dataloader = DataLoader(test_dataset, batch_size=batch_size, shuffle=False)\n"
   ]
  },
  {
   "cell_type": "code",
   "execution_count": null,
   "metadata": {
    "execution": {
     "iopub.execute_input": "2024-12-03T23:55:13.91439Z",
     "iopub.status.busy": "2024-12-03T23:55:13.914014Z",
     "iopub.status.idle": "2024-12-03T23:55:13.920076Z",
     "shell.execute_reply": "2024-12-03T23:55:13.919195Z",
     "shell.execute_reply.started": "2024-12-03T23:55:13.914359Z"
    }
   },
   "outputs": [],
   "source": [
    "def predict(model, dataloader, device):\n",
    "    model.eval()\n",
    "    predictions = [] # List to store predicted class labels\n",
    "    ids = []   # List to store tweet IDs from the test dataset\n",
    "    with torch.no_grad():\n",
    "        for batch in tqdm(dataloader, desc=\"Predicting\"):\n",
    "            input_ids = batch['input_ids'].to(device)\n",
    "            attention_mask = batch['attention_mask'].to(device)\n",
    "\n",
    "            # Forward pass through the model to get prediction logits\n",
    "            logits = model(input_ids, attention_mask)\n",
    "            preds = logits.argmax(dim=1).cpu().numpy()  #Get predicted class labels\n",
    "            predictions.extend(preds)\n",
    "            ids.extend(batch['id'])  #Append tweet IDs to the list\n",
    "    \n",
    "    return ids, predictions"
   ]
  },
  {
   "cell_type": "code",
   "execution_count": null,
   "metadata": {
    "execution": {
     "iopub.execute_input": "2024-12-03T23:55:26.36001Z",
     "iopub.status.busy": "2024-12-03T23:55:26.359679Z",
     "iopub.status.idle": "2024-12-04T00:24:41.736327Z",
     "shell.execute_reply": "2024-12-04T00:24:41.735634Z",
     "shell.execute_reply.started": "2024-12-03T23:55:26.359983Z"
    }
   },
   "outputs": [],
   "source": [
    "model.load_state_dict(torch.load(\"bert_emotion_model.pth\")) # Load model weights from a file\n",
    "model.eval()   # Set the model to evaluation mode\n",
    "print(\"Model loaded and ready for testing.\")\n",
    "\n",
    "# Use the model to make predictions on the test dataset\n",
    "test_ids, test_predictions = predict(model, test_dataloader, device)\n",
    "\n",
    "# Convert predicted numeric labels into emotion names\n",
    "inverse_emotion_mapping = {v: k for k, v in emotion_mapping.items()}\n",
    "test_emotions = [inverse_emotion_mapping[pred] for pred in test_predictions]"
   ]
  },
  {
   "cell_type": "code",
   "execution_count": null,
   "metadata": {
    "execution": {
     "iopub.execute_input": "2024-12-04T00:25:02.467087Z",
     "iopub.status.busy": "2024-12-04T00:25:02.46677Z",
     "iopub.status.idle": "2024-12-04T00:25:02.847046Z",
     "shell.execute_reply": "2024-12-04T00:25:02.846174Z",
     "shell.execute_reply.started": "2024-12-04T00:25:02.46706Z"
    }
   },
   "outputs": [],
   "source": [
    "# Create submission file\n",
    "submission = pd.DataFrame({\n",
    "    \"id\": test_ids,\n",
    "    \"emotion\": test_emotions\n",
    "})\n",
    "\n",
    "# Save as CSV file\n",
    "submission.to_csv(\"sampleSubmission.csv\", index=False)\n",
    "print(\"Submission file saved as sampleSubmission.csv\")"
   ]
  },
  {
   "cell_type": "code",
   "execution_count": null,
   "metadata": {
    "execution": {
     "iopub.execute_input": "2024-12-04T00:25:09.567832Z",
     "iopub.status.busy": "2024-12-04T00:25:09.567524Z",
     "iopub.status.idle": "2024-12-04T00:25:09.57706Z",
     "shell.execute_reply": "2024-12-04T00:25:09.576092Z",
     "shell.execute_reply.started": "2024-12-04T00:25:09.567807Z"
    }
   },
   "outputs": [],
   "source": [
    "submission"
   ]
  },
  {
   "cell_type": "code",
   "execution_count": null,
   "metadata": {
    "execution": {
     "iopub.execute_input": "2024-12-04T00:26:26.753652Z",
     "iopub.status.busy": "2024-12-04T00:26:26.75283Z",
     "iopub.status.idle": "2024-12-04T00:26:27.073459Z",
     "shell.execute_reply": "2024-12-04T00:26:27.072598Z",
     "shell.execute_reply.started": "2024-12-04T00:26:26.753618Z"
    }
   },
   "outputs": [],
   "source": [
    "# Save as CSV file\n",
    "submission.to_csv(\"/kaggle/working/sampleSubmission.csv\", index=False)\n",
    "print(\"Submission file saved at /kaggle/working/sampleSubmission.csv\")\n"
   ]
  },
  {
   "cell_type": "code",
   "execution_count": null,
   "metadata": {},
   "outputs": [],
   "source": []
  }
 ],
 "metadata": {
  "kaggle": {
   "accelerator": "nvidiaTeslaT4",
   "dataSources": [
    {
     "databundleVersionId": 9912598,
     "sourceId": 87232,
     "sourceType": "competition"
    }
   ],
   "dockerImageVersionId": 30805,
   "isGpuEnabled": true,
   "isInternetEnabled": true,
   "language": "python",
   "sourceType": "notebook"
  },
  "kernelspec": {
   "display_name": "Python 3 (ipykernel)",
   "language": "python",
   "name": "python3"
  },
  "language_info": {
   "codemirror_mode": {
    "name": "ipython",
    "version": 3
   },
   "file_extension": ".py",
   "mimetype": "text/x-python",
   "name": "python",
   "nbconvert_exporter": "python",
   "pygments_lexer": "ipython3",
   "version": "3.9.19"
  }
 },
 "nbformat": 4,
 "nbformat_minor": 4
}
